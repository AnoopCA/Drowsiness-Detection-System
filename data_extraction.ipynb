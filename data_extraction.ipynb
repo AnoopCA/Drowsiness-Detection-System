{
 "cells": [
  {
   "cell_type": "code",
   "execution_count": 1,
   "metadata": {},
   "outputs": [],
   "source": [
    "import os\n",
    "import shutil"
   ]
  },
  {
   "cell_type": "code",
   "execution_count": null,
   "metadata": {},
   "outputs": [],
   "source": [
    "img_path = r\"D:\\ML_Projects\\Drowsiness-Detection-System\\Data\\MRL_Eye\\train\"\n",
    "for i in os.listdir(img_path):\n",
    "    file_path = os.path.join(img_path, i)\n",
    "    if i.split(\"_\")[4] == \"1\":\n",
    "        shutil.copy(file_path, os.path.join(r\"D:\\ML_Projects\\Drowsiness-Detection-System\\Data\\MRL_Eye\\eye_open\", i))\n",
    "    else:\n",
    "        shutil.copy(file_path, os.path.join(r\"D:\\ML_Projects\\Drowsiness-Detection-System\\Data\\MRL_Eye\\eye_closed\", i))"
   ]
  },
  {
   "cell_type": "code",
   "execution_count": 5,
   "metadata": {},
   "outputs": [],
   "source": [
    "img_path = r\"D:\\ML_Projects\\Drowsiness-Detection-System\\Data\\MRL_Eye\\eye_open\"\n",
    "for i in os.listdir(img_path):\n",
    "    file_path = os.path.join(img_path, i)\n",
    "    if i.split(\"_\")[3] == \"1\":\n",
    "        shutil.move(file_path, os.path.join(r\"D:\\ML_Projects\\Drowsiness-Detection-System\\Data\\MRL_Eye\\with_specs\\eye_open\", i))"
   ]
  },
  {
   "cell_type": "code",
   "execution_count": 6,
   "metadata": {},
   "outputs": [],
   "source": [
    "img_path = r\"D:\\ML_Projects\\Drowsiness-Detection-System\\Data\\MRL_Eye\\eye_closed\"\n",
    "for i in os.listdir(img_path):\n",
    "    file_path = os.path.join(img_path, i)\n",
    "    if i.split(\"_\")[3] == \"1\":\n",
    "        shutil.move(file_path, os.path.join(r\"D:\\ML_Projects\\Drowsiness-Detection-System\\Data\\MRL_Eye\\with_specs\\eye_closed\", i))"
   ]
  },
  {
   "cell_type": "code",
   "execution_count": null,
   "metadata": {},
   "outputs": [],
   "source": []
  }
 ],
 "metadata": {
  "kernelspec": {
   "display_name": "dds_tf",
   "language": "python",
   "name": "python3"
  },
  "language_info": {
   "codemirror_mode": {
    "name": "ipython",
    "version": 3
   },
   "file_extension": ".py",
   "mimetype": "text/x-python",
   "name": "python",
   "nbconvert_exporter": "python",
   "pygments_lexer": "ipython3",
   "version": "3.10.0"
  }
 },
 "nbformat": 4,
 "nbformat_minor": 2
}
