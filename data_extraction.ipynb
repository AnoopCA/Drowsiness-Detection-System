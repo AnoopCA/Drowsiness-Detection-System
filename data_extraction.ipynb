{
 "cells": [
  {
   "cell_type": "markdown",
   "metadata": {},
   "source": [
    "### Data Extraction and Categorization for MRL Eye Dataset"
   ]
  },
  {
   "cell_type": "code",
   "execution_count": null,
   "metadata": {},
   "outputs": [],
   "source": [
    "# Import necessary libraries\n",
    "import os\n",
    "import shutil"
   ]
  },
  {
   "cell_type": "code",
   "execution_count": null,
   "metadata": {},
   "outputs": [],
   "source": [
    "# Define the path to the main directory containing eye images\n",
    "img_path = r\"D:\\ML_Projects\\Drowsiness-Detection-System\\Data\\MRL_Eye\\train\"\n",
    "# Loop through each image in the main dataset folder\n",
    "for i in os.listdir(img_path):\n",
    "    # Construct the full file path of the current image\n",
    "    file_path = os.path.join(img_path, i)\n",
    "    # Check if the 5th element in the file name (split by \"_\") is \"1\" (indicating eye is open)\n",
    "    if i.split(\"_\")[4] == \"1\":\n",
    "        # Copy the image to the \"eye_open\" folder\n",
    "        shutil.copy(file_path, os.path.join(r\"D:\\ML_Projects\\Drowsiness-Detection-System\\Data\\MRL_Eye\\eye_open\", i))\n",
    "    else:\n",
    "        # Copy the image to the \"eye_closed\" folder\n",
    "        shutil.copy(file_path, os.path.join(r\"D:\\ML_Projects\\Drowsiness-Detection-System\\Data\\MRL_Eye\\eye_closed\", i))"
   ]
  },
  {
   "cell_type": "code",
   "execution_count": null,
   "metadata": {},
   "outputs": [],
   "source": [
    "# Separate images with glasses to a different folder to prevent incorrect feature learning due to light reflections on glasses.\n",
    "img_path = r\"D:\\ML_Projects\\Drowsiness-Detection-System\\Data\\MRL_Eye\\eye_open\"\n",
    "for i in os.listdir(img_path):\n",
    "    file_path = os.path.join(img_path, i)\n",
    "    if i.split(\"_\")[3] == \"1\":\n",
    "        shutil.move(file_path, os.path.join(r\"D:\\ML_Projects\\Drowsiness-Detection-System\\Data\\MRL_Eye\\with_specs\\eye_open\", i))\n",
    "\n",
    "img_path = r\"D:\\ML_Projects\\Drowsiness-Detection-System\\Data\\MRL_Eye\\eye_closed\"\n",
    "for i in os.listdir(img_path):\n",
    "    file_path = os.path.join(img_path, i)\n",
    "    if i.split(\"_\")[3] == \"1\":\n",
    "        shutil.move(file_path, os.path.join(r\"D:\\ML_Projects\\Drowsiness-Detection-System\\Data\\MRL_Eye\\with_specs\\eye_closed\", i))"
   ]
  },
  {
   "cell_type": "code",
   "execution_count": null,
   "metadata": {},
   "outputs": [],
   "source": []
  }
 ],
 "metadata": {
  "kernelspec": {
   "display_name": "dds_tf",
   "language": "python",
   "name": "python3"
  },
  "language_info": {
   "codemirror_mode": {
    "name": "ipython",
    "version": 3
   },
   "file_extension": ".py",
   "mimetype": "text/x-python",
   "name": "python",
   "nbconvert_exporter": "python",
   "pygments_lexer": "ipython3",
   "version": "3.10.0"
  }
 },
 "nbformat": 4,
 "nbformat_minor": 2
}
