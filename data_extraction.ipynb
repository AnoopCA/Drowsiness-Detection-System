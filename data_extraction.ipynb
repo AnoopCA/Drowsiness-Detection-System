{
 "cells": [
  {
   "cell_type": "code",
   "execution_count": null,
   "metadata": {
    "vscode": {
     "languageId": "plaintext"
    }
   },
   "outputs": [],
   "source": [
    "import os\n",
    "import shutil\n",
    "\n",
    "img_path = r\"D:\\ML_Projects\\Drowsiness-Detection-System\\Data\\MRL_Eye\\train\"\n",
    "for i in os.listdir(img_path):\n",
    "    file_path = os.path.join(img_path, i)  # Full path to each individual file\n",
    "    if i.split(\"_\")[4] == \"1\":\n",
    "        shutil.copy(file_path, os.path.join(r\"D:\\ML_Projects\\Drowsiness-Detection-System\\Data\\MRL_Eye\\eye_open\", i))\n",
    "    else:\n",
    "        shutil.copy(file_path, os.path.join(r\"D:\\ML_Projects\\Drowsiness-Detection-System\\Data\\MRL_Eye\\eye_closed\", i))"
   ]
  }
 ],
 "metadata": {
  "language_info": {
   "name": "python"
  }
 },
 "nbformat": 4,
 "nbformat_minor": 2
}
